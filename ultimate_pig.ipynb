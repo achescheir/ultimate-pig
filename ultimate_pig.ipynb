{
 "cells": [
  {
   "cell_type": "code",
   "execution_count": null,
   "metadata": {
    "collapsed": true
   },
   "outputs": [],
   "source": [
    "%matplotlib inline"
   ]
  },
  {
   "cell_type": "code",
   "execution_count": null,
   "metadata": {
    "collapsed": true
   },
   "outputs": [],
   "source": [
    "import matplotlib.pyplot as plt\n",
    "import random\n",
    "import math\n",
    "import statistics as st"
   ]
  },
  {
   "cell_type": "code",
   "execution_count": null,
   "metadata": {
    "collapsed": false
   },
   "outputs": [],
   "source": [
    "class Player:\n",
    "    def __init__(self):\n",
    "        pass\n",
    "    \n",
    "    def set_game(self, game):\n",
    "        self.game = game\n",
    "    \n",
    "    def take_turn(self):\n",
    "        rolls = [] \n",
    "        \n",
    "        if self.will_roll(rolls):\n",
    "            roll = self.game.get_roll()\n",
    "            if roll in self.game.bust_numbers:\n",
    "                return 0\n",
    "            else:\n",
    "                rolls.append(roll)\n",
    "        return sum(rolls)\n",
    "    \n",
    "    def will_roll(self):\n",
    "        return False\n",
    "    "
   ]
  },
  {
   "cell_type": "code",
   "execution_count": null,
   "metadata": {
    "collapsed": true
   },
   "outputs": [],
   "source": [
    "class CautiousPlayer(Player):\n",
    "    def will_roll(self,rolls):\n",
    "        return len(rolls) <= 0\n",
    "\n",
    "class RandomPlayer(Player):\n",
    "    def will_roll(self,rolls):\n",
    "        return random.randint(1,6) > 1\n",
    "\n",
    "class HighRollingPlayer(Player):\n",
    "    def will_roll(self,rolls):\n",
    "        return sum(rolls) <= 50\n",
    "\n",
    "            "
   ]
  },
  {
   "cell_type": "code",
   "execution_count": null,
   "metadata": {
    "collapsed": false
   },
   "outputs": [],
   "source": [
    "class PigGame:\n",
    "    def __init__(self, players, turn_limit=math.inf, target=100, bust_numbers=[1]):\n",
    "        self.players = players\n",
    "        self.turn_limit = turn_limit\n",
    "        def get_d6():\n",
    "            return random.randint(1,6)\n",
    "        self.get_roll = get_d6\n",
    "        self.bust_numbers = bust_numbers\n",
    "        self.target = target\n",
    "    \n",
    "\n",
    "        \n",
    "    def play_a_round(self):\n",
    "        self.scores = [0]*len(self.players)\n",
    "        for i in range(self.turn_limit):\n",
    "            for index, player in enumerate(self.players):\n",
    "                self.scores[index] += player.take_turn()\n",
    "            winners = [(player,score) for player, score in zip(self.players, self.scores) if score >= self.target]\n",
    "            if len(winners) >0:\n",
    "                return winners\n",
    "        max_score = max(self.scores)\n",
    "        return [(player,score) for player, score in zip(self.players, self.scores) if score == max_score]\n"
   ]
  },
  {
   "cell_type": "code",
   "execution_count": null,
   "metadata": {
    "collapsed": false
   },
   "outputs": [],
   "source": [
    "cautious = CautiousPlayer()\n",
    "randy = RandomPlayer()\n",
    "high_roller = HighRollingPlayer()\n",
    "players = [cautious, randy, high_roller]\n",
    "results = {}\n",
    "for player in players:\n",
    "    this_game = PigGame([player],7,math.inf)\n",
    "    player.set_game(this_game)\n",
    "    results[player] = []\n",
    "    for i in range(10):\n",
    "        returned = this_game.play_a_round()\n",
    "        results[player].append(returned[0][1])\n",
    "    del this_game"
   ]
  },
  {
   "cell_type": "code",
   "execution_count": null,
   "metadata": {
    "collapsed": false
   },
   "outputs": [],
   "source": [
    "print(results)"
   ]
  },
  {
   "cell_type": "code",
   "execution_count": null,
   "metadata": {
    "collapsed": false,
    "scrolled": false
   },
   "outputs": [],
   "source": [
    "results={}\n",
    "for i in range(20):\n",
    "    print(\"Limit:\",i)\n",
    "    totals = []\n",
    "    for j in range(10000):\n",
    "#         print(\"-Trial:\",j+1)\n",
    "        total = 0\n",
    "        for k in range(7):\n",
    "#             print(\"--Round:\",k+1, \"Total:\",total)\n",
    "            sub_total = 0\n",
    "            for l in range(i):     \n",
    "#             while sub_total < i:\n",
    "                roll = random.randint(1,6)\n",
    "                if roll == 1:\n",
    "                    sub_total =0\n",
    "#                     print(\"---Roll#:\", l+1, \"SubTotal:\",sub_total, \"Roll:\",roll)\n",
    "                    break\n",
    "                else:\n",
    "                    sub_total += roll\n",
    "#                     print(\"---Roll#:\", l+1, \"SubTotal:\",sub_total, \"Roll:\",roll)\n",
    "            total += sub_total\n",
    "#             print(\"--End of Round\",k+1, \"Final:\",total)\n",
    "        totals.append(total)\n",
    "    results[i] = totals\n",
    "\n"
   ]
  },
  {
   "cell_type": "code",
   "execution_count": null,
   "metadata": {
    "collapsed": false,
    "scrolled": true
   },
   "outputs": [],
   "source": [
    "results\n"
   ]
  },
  {
   "cell_type": "code",
   "execution_count": null,
   "metadata": {
    "collapsed": true
   },
   "outputs": [],
   "source": [
    "avgs = {}\n",
    "for i in results.keys():\n",
    "    avgs[i]= st.median(results[i])"
   ]
  },
  {
   "cell_type": "code",
   "execution_count": null,
   "metadata": {
    "collapsed": false
   },
   "outputs": [],
   "source": [
    "print(avgs)\n"
   ]
  },
  {
   "cell_type": "code",
   "execution_count": null,
   "metadata": {
    "collapsed": false,
    "scrolled": false
   },
   "outputs": [],
   "source": [
    "results[5]\n"
   ]
  },
  {
   "cell_type": "code",
   "execution_count": null,
   "metadata": {
    "collapsed": true
   },
   "outputs": [],
   "source": []
  }
 ],
 "metadata": {
  "kernelspec": {
   "display_name": "Python 3",
   "language": "python",
   "name": "python3"
  },
  "language_info": {
   "codemirror_mode": {
    "name": "ipython",
    "version": 3
   },
   "file_extension": ".py",
   "mimetype": "text/x-python",
   "name": "python",
   "nbconvert_exporter": "python",
   "pygments_lexer": "ipython3",
   "version": "3.5.1"
  }
 },
 "nbformat": 4,
 "nbformat_minor": 0
}
